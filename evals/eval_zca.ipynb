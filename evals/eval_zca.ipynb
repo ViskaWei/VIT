{
 "cells": [
  {
   "cell_type": "code",
   "execution_count": 1,
   "id": "3635351a",
   "metadata": {},
   "outputs": [],
   "source": [
    "path = \"/Users/viskawei/Desktop/VIT/artifacts/preproc/zca.pt\""
   ]
  },
  {
   "cell_type": "code",
   "execution_count": 6,
   "id": "40c412c9",
   "metadata": {},
   "outputs": [],
   "source": [
    "import torch\n",
    "zca = torch.load(path)"
   ]
  },
  {
   "cell_type": "code",
   "execution_count": 7,
   "id": "4e96e8f1",
   "metadata": {},
   "outputs": [
    {
     "data": {
      "text/plain": [
       "dict_keys(['matrix', 'linear_weight', 'bias', 'mean', 'cov', 'metadata', 'eigenvalues', 'projector', 'whitening'])"
      ]
     },
     "execution_count": 7,
     "metadata": {},
     "output_type": "execute_result"
    }
   ],
   "source": [
    "zca.keys()"
   ]
  },
  {
   "cell_type": "code",
   "execution_count": 8,
   "id": "83960f53",
   "metadata": {},
   "outputs": [
    {
     "name": "stdout",
     "output_type": "stream",
     "text": [
      "matrix torch.Size([4096, 4096])\n",
      "linear_weight torch.Size([4096, 4096])\n",
      "bias torch.Size([4096])\n",
      "mean torch.Size([4096])\n",
      "cov torch.Size([4096, 4096])\n",
      "metadata {'mode': 'zca', 'rank': None, 'eps': 1e-05, 'shrinkage': 0.0, 'whiten': False, 'seed': 0, 'num_samples': 1000, 'perp_mode': 'zero', 'perp_scale': None}\n",
      "eigenvalues torch.Size([4096])\n",
      "projector torch.Size([4096, 4096])\n",
      "whitening torch.Size([4096, 4096])\n"
     ]
    }
   ],
   "source": [
    "for k, v in zca.items():\n",
    "    print(k, v.shape if isinstance(v, torch.Tensor) else v)"
   ]
  },
  {
   "cell_type": "code",
   "execution_count": null,
   "id": "6e675d1c",
   "metadata": {},
   "outputs": [],
   "source": []
  }
 ],
 "metadata": {
  "kernelspec": {
   "display_name": ".venv",
   "language": "python",
   "name": "python3"
  },
  "language_info": {
   "codemirror_mode": {
    "name": "ipython",
    "version": 3
   },
   "file_extension": ".py",
   "mimetype": "text/x-python",
   "name": "python",
   "nbconvert_exporter": "python",
   "pygments_lexer": "ipython3",
   "version": "3.13.7"
  }
 },
 "nbformat": 4,
 "nbformat_minor": 5
}
